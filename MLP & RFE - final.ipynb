{
 "cells": [
  {
   "cell_type": "code",
   "execution_count": 1,
   "metadata": {},
   "outputs": [],
   "source": [
    "import tensorflow as tf\n",
    "import numpy as np\n",
    "from tensorflow import keras\n",
    "import os\n",
    "from tensorflow.keras.preprocessing import image\n",
    "import matplotlib.pyplot as plt\n",
    "\n",
    "from keras.utils.np_utils import to_categorical\n",
    " \n",
    "import pandas as pd \n",
    "from sklearn.model_selection import train_test_split\n",
    "from sklearn.model_selection import StratifiedKFold,KFold\n",
    "from keras import regularizers"
   ]
  },
  {
   "cell_type": "code",
   "execution_count": 3,
   "metadata": {},
   "outputs": [],
   "source": [
    "# from skimage.io import imread\n",
    "import matplotlib.pyplot as plt\n",
    "%matplotlib inline"
   ]
  },
  {
   "cell_type": "code",
   "execution_count": 4,
   "metadata": {},
   "outputs": [],
   "source": [
    "from sklearn.metrics import accuracy_score\n",
    "\n",
    "from keras.models import Sequential\n",
    "from tensorflow.keras.layers import BatchNormalization\n",
    "from keras.layers.convolutional import Conv2D\n",
    "from keras.layers.convolutional import MaxPooling2D\n",
    "from keras.layers.core import Activation\n",
    "from keras.layers.core import Dropout\n",
    "from keras.layers.core import Dense\n",
    "from keras.layers import Flatten\n",
    "from keras.layers import Input\n",
    "from keras.models import Model"
   ]
  },
  {
   "cell_type": "code",
   "execution_count": 6,
   "metadata": {},
   "outputs": [],
   "source": [
    "df1 = pd.read_csv(r'.\\csv\\R6_yes.csv')\n",
    "df2 = pd.read_csv(r'.\\csv\\R6_no.csv')\n",
    "df3 = pd.read_csv(r'.\\csv\\R7_yes.csv')\n",
    "df4 = pd.read_csv(r'.\\csv\\R7_no.csv')\n",
    "df5 = pd.read_csv(r'.\\csv\\R8_yes.csv')\n",
    "df6 = pd.read_csv(r'.\\csv\\R8_no.csv')\n",
    "df7 = pd.read_csv(r'.\\csv\\R9_yes.csv')\n",
    "df8 = pd.read_csv(r'.\\csv\\R9_no.csv')\n",
    "df9 = pd.read_csv(r'.\\csv\\R10_yes.csv')\n",
    "df10 = pd.read_csv(r'.\\csv\\R10_no.csv')"
   ]
  },
  {
   "cell_type": "code",
   "execution_count": 7,
   "metadata": {},
   "outputs": [
    {
     "data": {
      "text/plain": "(1662, 14)"
     },
     "execution_count": 7,
     "metadata": {},
     "output_type": "execute_result"
    }
   ],
   "source": [
    "df = pd.concat([df1,df2,df3,df4,df5,df6,df7,df8,df9,df10],axis=0)\n",
    "df.shape"
   ]
  },
  {
   "cell_type": "code",
   "execution_count": 8,
   "metadata": {},
   "outputs": [],
   "source": [
    "#reindex of all data after concat\n",
    "df.reset_index(drop=True, inplace=True)"
   ]
  },
  {
   "cell_type": "code",
   "execution_count": 10,
   "metadata": {},
   "outputs": [],
   "source": [
    "def Normalization2(x):\n",
    "    return [(float(i)-np.mean(x))/(max(x)-min(x)) for i in x]\n",
    "\n",
    "df['weight_nor'] = Normalization2(df['weight'])\n",
    "df['height_nor'] = Normalization2(df['height'])"
   ]
  },
  {
   "cell_type": "code",
   "execution_count": 11,
   "metadata": {},
   "outputs": [
    {
     "data": {
      "text/plain": "       spid    imgspid  dementia  gender  race  intvrage  weight  howtallft  \\\n0  10000647  100006476         1       2     1         5     153          5   \n1  10000651  100006516         1       1     1         6     200          5   \n2  10001416  100014166         1       2     3         5     132          5   \n3  10001778  100017786         1       2     2         6     184          5   \n4  10001823  100018236         1       2     3         4     144          5   \n\n   howtallin  wrdimmrc  wrddlyrc  clkdraw  clkimgcl  height  weight_nor  \\\n0          1         5         3        3         1  154.94   -0.051862   \n1          5         3         0        4         1  165.10    0.076554   \n2          0         4         1        1         1  152.40   -0.109239   \n3          3         5         1        3         3  160.02    0.032838   \n4          4         2         0        2         1  162.56   -0.076452   \n\n   height_nor  \n0   -0.172619  \n1   -0.029762  \n2   -0.208333  \n3   -0.101190  \n4   -0.065476  ",
      "text/html": "<div>\n<style scoped>\n    .dataframe tbody tr th:only-of-type {\n        vertical-align: middle;\n    }\n\n    .dataframe tbody tr th {\n        vertical-align: top;\n    }\n\n    .dataframe thead th {\n        text-align: right;\n    }\n</style>\n<table border=\"1\" class=\"dataframe\">\n  <thead>\n    <tr style=\"text-align: right;\">\n      <th></th>\n      <th>spid</th>\n      <th>imgspid</th>\n      <th>dementia</th>\n      <th>gender</th>\n      <th>race</th>\n      <th>intvrage</th>\n      <th>weight</th>\n      <th>howtallft</th>\n      <th>howtallin</th>\n      <th>wrdimmrc</th>\n      <th>wrddlyrc</th>\n      <th>clkdraw</th>\n      <th>clkimgcl</th>\n      <th>height</th>\n      <th>weight_nor</th>\n      <th>height_nor</th>\n    </tr>\n  </thead>\n  <tbody>\n    <tr>\n      <th>0</th>\n      <td>10000647</td>\n      <td>100006476</td>\n      <td>1</td>\n      <td>2</td>\n      <td>1</td>\n      <td>5</td>\n      <td>153</td>\n      <td>5</td>\n      <td>1</td>\n      <td>5</td>\n      <td>3</td>\n      <td>3</td>\n      <td>1</td>\n      <td>154.94</td>\n      <td>-0.051862</td>\n      <td>-0.172619</td>\n    </tr>\n    <tr>\n      <th>1</th>\n      <td>10000651</td>\n      <td>100006516</td>\n      <td>1</td>\n      <td>1</td>\n      <td>1</td>\n      <td>6</td>\n      <td>200</td>\n      <td>5</td>\n      <td>5</td>\n      <td>3</td>\n      <td>0</td>\n      <td>4</td>\n      <td>1</td>\n      <td>165.10</td>\n      <td>0.076554</td>\n      <td>-0.029762</td>\n    </tr>\n    <tr>\n      <th>2</th>\n      <td>10001416</td>\n      <td>100014166</td>\n      <td>1</td>\n      <td>2</td>\n      <td>3</td>\n      <td>5</td>\n      <td>132</td>\n      <td>5</td>\n      <td>0</td>\n      <td>4</td>\n      <td>1</td>\n      <td>1</td>\n      <td>1</td>\n      <td>152.40</td>\n      <td>-0.109239</td>\n      <td>-0.208333</td>\n    </tr>\n    <tr>\n      <th>3</th>\n      <td>10001778</td>\n      <td>100017786</td>\n      <td>1</td>\n      <td>2</td>\n      <td>2</td>\n      <td>6</td>\n      <td>184</td>\n      <td>5</td>\n      <td>3</td>\n      <td>5</td>\n      <td>1</td>\n      <td>3</td>\n      <td>3</td>\n      <td>160.02</td>\n      <td>0.032838</td>\n      <td>-0.101190</td>\n    </tr>\n    <tr>\n      <th>4</th>\n      <td>10001823</td>\n      <td>100018236</td>\n      <td>1</td>\n      <td>2</td>\n      <td>3</td>\n      <td>4</td>\n      <td>144</td>\n      <td>5</td>\n      <td>4</td>\n      <td>2</td>\n      <td>0</td>\n      <td>2</td>\n      <td>1</td>\n      <td>162.56</td>\n      <td>-0.076452</td>\n      <td>-0.065476</td>\n    </tr>\n  </tbody>\n</table>\n</div>"
     },
     "execution_count": 11,
     "metadata": {},
     "output_type": "execute_result"
    }
   ],
   "source": [
    "df.head()"
   ]
  },
  {
   "cell_type": "code",
   "execution_count": 12,
   "metadata": {},
   "outputs": [
    {
     "data": {
      "text/plain": "(1662, 9)"
     },
     "execution_count": 12,
     "metadata": {},
     "output_type": "execute_result"
    }
   ],
   "source": [
    "X = df[['gender','race','intvrage','wrdimmrc','wrddlyrc','clkdraw','clkimgcl','weight_nor','height_nor']]\n",
    "X.shape"
   ]
  },
  {
   "cell_type": "code",
   "execution_count": 13,
   "metadata": {},
   "outputs": [
    {
     "data": {
      "text/plain": "   gender  race  intvrage  wrdimmrc  wrddlyrc  clkdraw  clkimgcl  weight_nor  \\\n0       2     1         5         5         3        3         1   -0.051862   \n1       1     1         6         3         0        4         1    0.076554   \n2       2     3         5         4         1        1         1   -0.109239   \n3       2     2         6         5         1        3         3    0.032838   \n4       2     3         4         2         0        2         1   -0.076452   \n\n   height_nor  \n0   -0.172619  \n1   -0.029762  \n2   -0.208333  \n3   -0.101190  \n4   -0.065476  ",
      "text/html": "<div>\n<style scoped>\n    .dataframe tbody tr th:only-of-type {\n        vertical-align: middle;\n    }\n\n    .dataframe tbody tr th {\n        vertical-align: top;\n    }\n\n    .dataframe thead th {\n        text-align: right;\n    }\n</style>\n<table border=\"1\" class=\"dataframe\">\n  <thead>\n    <tr style=\"text-align: right;\">\n      <th></th>\n      <th>gender</th>\n      <th>race</th>\n      <th>intvrage</th>\n      <th>wrdimmrc</th>\n      <th>wrddlyrc</th>\n      <th>clkdraw</th>\n      <th>clkimgcl</th>\n      <th>weight_nor</th>\n      <th>height_nor</th>\n    </tr>\n  </thead>\n  <tbody>\n    <tr>\n      <th>0</th>\n      <td>2</td>\n      <td>1</td>\n      <td>5</td>\n      <td>5</td>\n      <td>3</td>\n      <td>3</td>\n      <td>1</td>\n      <td>-0.051862</td>\n      <td>-0.172619</td>\n    </tr>\n    <tr>\n      <th>1</th>\n      <td>1</td>\n      <td>1</td>\n      <td>6</td>\n      <td>3</td>\n      <td>0</td>\n      <td>4</td>\n      <td>1</td>\n      <td>0.076554</td>\n      <td>-0.029762</td>\n    </tr>\n    <tr>\n      <th>2</th>\n      <td>2</td>\n      <td>3</td>\n      <td>5</td>\n      <td>4</td>\n      <td>1</td>\n      <td>1</td>\n      <td>1</td>\n      <td>-0.109239</td>\n      <td>-0.208333</td>\n    </tr>\n    <tr>\n      <th>3</th>\n      <td>2</td>\n      <td>2</td>\n      <td>6</td>\n      <td>5</td>\n      <td>1</td>\n      <td>3</td>\n      <td>3</td>\n      <td>0.032838</td>\n      <td>-0.101190</td>\n    </tr>\n    <tr>\n      <th>4</th>\n      <td>2</td>\n      <td>3</td>\n      <td>4</td>\n      <td>2</td>\n      <td>0</td>\n      <td>2</td>\n      <td>1</td>\n      <td>-0.076452</td>\n      <td>-0.065476</td>\n    </tr>\n  </tbody>\n</table>\n</div>"
     },
     "execution_count": 13,
     "metadata": {},
     "output_type": "execute_result"
    }
   ],
   "source": [
    "X.head()"
   ]
  },
  {
   "cell_type": "code",
   "execution_count": 14,
   "metadata": {},
   "outputs": [
    {
     "data": {
      "text/plain": "array([[0., 1.],\n       [0., 1.],\n       [0., 1.],\n       ...,\n       [1., 0.],\n       [1., 0.],\n       [1., 0.]])"
     },
     "execution_count": 14,
     "metadata": {},
     "output_type": "execute_result"
    }
   ],
   "source": [
    "from sklearn.preprocessing import LabelEncoder\n",
    "encoder = LabelEncoder()  \n",
    "AD_values = encoder.fit_transform(df['dementia'].values)  \n",
    "AD_values = np.array([AD_values]).T\n",
    "\n",
    "# for softmax\n",
    "from sklearn.preprocessing import OneHotEncoder\n",
    "enc = OneHotEncoder()\n",
    "y_total=enc.fit_transform(AD_values)\n",
    "y_total=y_total.toarray()\n",
    "y_total"
   ]
  },
  {
   "cell_type": "code",
   "execution_count": 15,
   "metadata": {},
   "outputs": [],
   "source": [
    "y = df['dementia']"
   ]
  },
  {
   "cell_type": "code",
   "execution_count": null,
   "metadata": {},
   "outputs": [],
   "source": []
  },
  {
   "cell_type": "code",
   "execution_count": 17,
   "metadata": {},
   "outputs": [
    {
     "name": "stdout",
     "output_type": "stream",
     "text": [
      "(1246, 9)\n",
      "(416, 9)\n",
      "(1246, 2)\n",
      "(416, 2)\n",
      "Epoch 1/20\n",
      "39/39 [==============================] - 1s 2ms/step - loss: 1.1589 - auc: 0.1919\b\b\b\b\b\b\b\b\b\b\b\b\b\b\b\b\b\b\b\b\b\b\b\b\b\b\b\b\b\b\b\b\b\b\b\b\b\b\b\b\b\b\b\b\b\b\b\b\b\b\b\b\b\b\b\b\b\b\b\b\b\b\b\b\b\b\b\b\b\b\b\b\b\b\b\b\b\b\b\b\b\b\b\b\b\b\b\b\b\b\b\b\b\b\b\b\b\b\b\b\b\b\b\b\b\b\b\b\b\b\b\b\b\b\b\b\b\b\b\b\b\b\b\b\b\b\b\b\b\b\b\b\b\b\b\b\b\b\b\b\b\b\b\b\b\b\b\b\b\b\b\b\n",
      "Epoch 2/20\n",
      "39/39 [==============================] - 0s 2ms/step - loss: 1.1552 - auc: 0.2369\b\b\b\b\b\b\b\b\b\b\b\b\b\b\b\b\b\b\b\b\b\b\b\b\b\b\b\b\b\b\b\b\b\b\b\b\b\b\b\b\b\b\b\b\b\b\b\b\b\b\b\b\b\b\b\b\b\b\b\b\b\b\b\b\b\b\b\b\b\b\b\b\b\b\b\b\b\b\b\b\b\b\b\b\b\b\b\b\b\b\b\b\b\b\b\b\b\b\b\b\b\b\b\b\b\b\b\b\b\b\b\b\b\b\b\b\b\b\b\b\b\b\b\b\b\b\b\b\b\b\b\b\b\b\b\b\b\b\b\b\b\b\b\b\b\b\b\b\b\b\n",
      "Epoch 3/20\n",
      "39/39 [==============================] - 0s 2ms/step - loss: 1.1502 - auc: 0.2496\b\b\b\b\b\b\b\b\b\b\b\b\b\b\b\b\b\b\b\b\b\b\b\b\b\b\b\b\b\b\b\b\b\b\b\b\b\b\b\b\b\b\b\b\b\b\b\b\b\b\b\b\b\b\b\b\b\b\b\b\b\b\b\b\b\b\b\b\b\b\b\b\b\b\b\b\b\b\b\b\b\b\b\b\b\b\b\b\b\b\b\b\b\b\b\b\b\b\b\b\b\b\b\b\b\b\b\b\b\b\b\b\b\b\b\b\b\b\b\b\b\b\b\b\b\b\b\b\b\b\b\b\b\b\b\b\b\b\b\b\b\b\b\b\b\b\b\b\b\b\n",
      "Epoch 4/20\n",
      "39/39 [==============================] - 0s 2ms/step - loss: 1.1415 - auc: 0.4105\b\b\b\b\b\b\b\b\b\b\b\b\b\b\b\b\b\b\b\b\b\b\b\b\b\b\b\b\b\b\b\b\b\b\b\b\b\b\b\b\b\b\b\b\b\b\b\b\b\b\b\b\b\b\b\b\b\b\b\b\b\b\b\b\b\b\b\b\b\b\b\b\b\b\b\b\b\b\b\b\b\b\b\b\b\b\b\b\b\b\b\b\b\b\b\b\b\b\b\b\b\b\b\b\b\b\b\b\b\b\b\b\b\b\b\b\b\b\b\b\b\b\b\b\b\b\b\b\b\b\b\b\b\b\b\b\b\b\b\b\b\b\b\b\b\b\b\b\b\b\n",
      "Epoch 5/20\n",
      "39/39 [==============================] - 0s 1ms/step - loss: 1.1297 - auc: 0.5345\b\b\b\b\b\b\b\b\b\b\b\b\b\b\b\b\b\b\b\b\b\b\b\b\b\b\b\b\b\b\b\b\b\b\b\b\b\b\b\b\b\b\b\b\b\b\b\b\b\b\b\b\b\b\b\b\b\b\b\b\b\b\b\b\b\b\b\b\b\b\b\b\b\b\b\b\b\b\b\b\b\b\b\b\b\b\b\b\b\b\b\b\b\b\b\b\b\b\b\b\b\b\b\b\b\b\b\b\b\b\b\b\b\b\b\b\b\b\b\b\b\b\b\b\b\b\b\b\b\b\b\b\b\b\b\b\b\b\b\b\b\b\b\b\b\b\b\b\b\b\n",
      "Epoch 6/20\n",
      "39/39 [==============================] - 0s 1ms/step - loss: 1.1169 - auc: 0.6404\b\b\b\b\b\b\b\b\b\b\b\b\b\b\b\b\b\b\b\b\b\b\b\b\b\b\b\b\b\b\b\b\b\b\b\b\b\b\b\b\b\b\b\b\b\b\b\b\b\b\b\b\b\b\b\b\b\b\b\b\b\b\b\b\b\b\b\b\b\b\b\b\b\b\b\b\b\b\b\b\b\b\b\b\b\b\b\b\b\b\b\b\b\b\b\b\b\b\b\b\b\b\b\b\b\b\b\b\b\b\b\b\b\b\b\b\b\b\b\b\b\b\b\b\b\b\b\b\b\b\b\b\b\b\b\b\b\b\b\b\b\b\b\b\b\b\b\b\b\b\n",
      "Epoch 7/20\n",
      "39/39 [==============================] - 0s 1ms/step - loss: 1.1022 - auc: 0.6990\b\b\b\b\b\b\b\b\b\b\b\b\b\b\b\b\b\b\b\b\b\b\b\b\b\b\b\b\b\b\b\b\b\b\b\b\b\b\b\b\b\b\b\b\b\b\b\b\b\b\b\b\b\b\b\b\b\b\b\b\b\b\b\b\b\b\b\b\b\b\b\b\b\b\b\b\b\b\b\b\b\b\b\b\b\b\b\b\b\b\b\b\b\b\b\b\b\b\b\b\b\b\b\b\b\b\b\b\b\b\b\b\b\b\b\b\b\b\b\b\b\b\b\b\b\b\b\b\b\b\b\b\b\b\b\b\b\b\b\b\b\b\b\b\b\b\b\b\b\b\n",
      "Epoch 8/20\n",
      "39/39 [==============================] - 0s 1ms/step - loss: 1.0915 - auc: 0.7131\b\b\b\b\b\b\b\b\b\b\b\b\b\b\b\b\b\b\b\b\b\b\b\b\b\b\b\b\b\b\b\b\b\b\b\b\b\b\b\b\b\b\b\b\b\b\b\b\b\b\b\b\b\b\b\b\b\b\b\b\b\b\b\b\b\b\b\b\b\b\b\b\b\b\b\b\b\b\b\b\b\b\b\b\b\b\b\b\b\b\b\b\b\b\b\b\b\b\b\b\b\b\b\b\b\b\b\b\b\b\b\b\b\b\b\b\b\b\b\b\b\b\b\b\b\b\b\b\b\b\b\b\b\b\b\b\b\b\b\b\b\b\b\b\b\b\b\b\b\b\n",
      "Epoch 9/20\n",
      "39/39 [==============================] - 0s 2ms/step - loss: 1.0770 - auc: 0.7477\b\b\b\b\b\b\b\b\b\b\b\b\b\b\b\b\b\b\b\b\b\b\b\b\b\b\b\b\b\b\b\b\b\b\b\b\b\b\b\b\b\b\b\b\b\b\b\b\b\b\b\b\b\b\b\b\b\b\b\b\b\b\b\b\b\b\b\b\b\b\b\b\b\b\b\b\b\b\b\b\b\b\b\b\b\b\b\b\b\b\b\b\b\b\b\b\b\b\b\b\b\b\b\b\b\b\b\b\b\b\b\b\b\b\b\b\b\b\b\b\b\b\b\b\b\b\b\b\b\b\b\b\b\b\b\b\b\b\b\b\b\b\b\b\b\b\b\b\b\b\n",
      "Epoch 10/20\n",
      "39/39 [==============================] - 0s 1ms/step - loss: 1.0662 - auc: 0.7351\b\b\b\b\b\b\b\b\b\b\b\b\b\b\b\b\b\b\b\b\b\b\b\b\b\b\b\b\b\b\b\b\b\b\b\b\b\b\b\b\b\b\b\b\b\b\b\b\b\b\b\b\b\b\b\b\b\b\b\b\b\b\b\b\b\b\b\b\b\b\b\b\b\b\b\b\b\b\b\b\b\b\b\b\b\b\b\b\b\b\b\b\b\b\b\b\b\b\b\b\b\b\b\b\b\b\b\b\b\b\b\b\b\b\b\b\b\b\b\b\b\b\b\b\b\b\b\b\b\b\b\b\b\b\b\b\b\b\b\b\b\b\b\b\b\b\b\b\b\b\n",
      "Epoch 11/20\n",
      "39/39 [==============================] - 0s 1ms/step - loss: 1.0580 - auc: 0.8025\b\b\b\b\b\b\b\b\b\b\b\b\b\b\b\b\b\b\b\b\b\b\b\b\b\b\b\b\b\b\b\b\b\b\b\b\b\b\b\b\b\b\b\b\b\b\b\b\b\b\b\b\b\b\b\b\b\b\b\b\b\b\b\b\b\b\b\b\b\b\b\b\b\b\b\b\b\b\b\b\b\b\b\b\b\b\b\b\b\b\b\b\b\b\b\b\b\b\b\b\b\b\b\b\b\b\b\b\b\b\b\b\b\b\b\b\b\b\b\b\b\b\b\b\b\b\b\b\b\b\b\b\b\b\b\b\b\b\b\b\b\b\b\b\b\b\b\b\b\b\n",
      "Epoch 12/20\n",
      "39/39 [==============================] - 0s 1ms/step - loss: 1.0447 - auc: 0.7998\b\b\b\b\b\b\b\b\b\b\b\b\b\b\b\b\b\b\b\b\b\b\b\b\b\b\b\b\b\b\b\b\b\b\b\b\b\b\b\b\b\b\b\b\b\b\b\b\b\b\b\b\b\b\b\b\b\b\b\b\b\b\b\b\b\b\b\b\b\b\b\b\b\n",
      "Epoch 13/20\n",
      "39/39 [==============================] - 0s 1ms/step - loss: 1.0377 - auc: 0.8204\b\b\b\b\b\b\b\b\b\b\b\b\b\b\b\b\b\b\b\b\b\b\b\b\b\b\b\b\b\b\b\b\b\b\b\b\b\b\b\b\b\b\b\b\b\b\b\b\b\b\b\b\b\b\b\b\b\b\b\b\b\b\b\b\b\b\b\b\b\b\b\b\b\b\b\b\b\b\b\b\b\b\b\b\b\b\b\b\b\b\b\b\b\b\b\b\b\b\b\b\b\b\b\b\b\b\b\b\b\b\b\b\b\b\b\b\b\b\b\b\b\b\b\b\b\b\b\b\b\b\b\b\b\b\b\b\b\b\b\b\b\b\b\b\b\b\b\b\b\b\n",
      "Epoch 14/20\n",
      "39/39 [==============================] - 0s 2ms/step - loss: 1.0272 - auc: 0.8144\b\b\b\b\b\b\b\b\b\b\b\b\b\b\b\b\b\b\b\b\b\b\b\b\b\b\b\b\b\b\b\b\b\b\b\b\b\b\b\b\b\b\b\b\b\b\b\b\b\b\b\b\b\b\b\b\b\b\b\b\b\b\b\b\b\b\b\b\b\b\b\b\b\b\b\b\b\b\b\b\b\b\b\b\b\b\b\b\b\b\b\b\b\b\b\b\b\b\b\b\b\b\b\b\b\b\b\b\b\b\b\b\b\b\b\b\b\b\b\b\b\b\b\b\b\b\b\b\b\b\b\b\b\b\b\b\b\b\b\b\b\b\b\b\b\b\b\b\b\b\n",
      "Epoch 15/20\n",
      "39/39 [==============================] - 0s 1ms/step - loss: 1.0192 - auc: 0.8277\b\b\b\b\b\b\b\b\b\b\b\b\b\b\b\b\b\b\b\b\b\b\b\b\b\b\b\b\b\b\b\b\b\b\b\b\b\b\b\b\b\b\b\b\b\b\b\b\b\b\b\b\b\b\b\b\b\b\b\b\b\b\b\b\b\b\b\b\b\b\b\b\b\b\b\b\b\b\b\b\b\b\b\b\b\b\b\b\b\b\b\b\b\b\b\b\b\b\b\b\b\b\b\b\b\b\b\b\b\b\b\b\b\b\b\b\b\b\b\b\b\b\b\b\b\b\b\b\b\b\b\b\b\b\b\b\b\b\b\b\b\b\b\b\b\b\b\b\b\b\n",
      "Epoch 16/20\n",
      "39/39 [==============================] - 0s 2ms/step - loss: 1.0121 - auc: 0.8231\b\b\b\b\b\b\b\b\b\b\b\b\b\b\b\b\b\b\b\b\b\b\b\b\b\b\b\b\b\b\b\b\b\b\b\b\b\b\b\b\b\b\b\b\b\b\b\b\b\b\b\b\b\b\b\b\b\b\b\b\b\b\b\b\b\b\b\b\b\b\b\b\b\b\b\b\b\b\b\b\b\b\b\b\b\b\b\b\b\b\b\b\b\b\b\b\b\b\b\b\b\b\b\b\b\b\b\b\b\b\b\b\b\b\b\b\b\b\b\b\b\b\b\b\b\b\b\b\b\b\b\b\b\b\b\b\b\b\b\b\b\b\b\b\b\b\b\b\b\b\n",
      "Epoch 17/20\n",
      "39/39 [==============================] - 0s 2ms/step - loss: 1.0027 - auc: 0.8158\b\b\b\b\b\b\b\b\b\b\b\b\b\b\b\b\b\b\b\b\b\b\b\b\b\b\b\b\b\b\b\b\b\b\b\b\b\b\b\b\b\b\b\b\b\b\b\b\b\b\b\b\b\b\b\b\b\b\b\b\b\b\b\b\b\b\b\b\b\b\b\b\b\b\b\b\b\b\b\b\b\b\b\b\b\b\b\b\b\b\b\b\b\b\b\b\b\b\b\b\b\b\b\b\b\b\b\b\b\b\b\b\b\b\b\b\b\b\b\b\b\b\b\b\b\b\b\b\b\b\b\b\b\b\b\b\b\b\b\b\b\b\b\b\b\b\b\b\b\b\n",
      "Epoch 18/20\n",
      "39/39 [==============================] - 0s 2ms/step - loss: 0.9925 - auc: 0.8432\b\b\b\b\b\b\b\b\b\b\b\b\b\b\b\b\b\b\b\b\b\b\b\b\b\b\b\b\b\b\b\b\b\b\b\b\b\b\b\b\b\b\b\b\b\b\b\b\b\b\b\b\b\b\b\b\b\b\b\b\b\b\b\b\b\b\b\b\b\b\b\b\b\b\b\b\b\b\b\b\b\b\b\b\b\b\b\b\b\b\b\b\b\b\b\b\b\b\b\b\b\b\b\b\b\b\b\b\b\b\b\b\b\b\b\b\b\b\b\b\b\b\b\b\b\b\b\b\b\b\b\b\b\b\b\b\b\b\b\b\b\b\b\b\b\b\b\b\b\b\n",
      "Epoch 19/20\n",
      "39/39 [==============================] - 0s 1ms/step - loss: 0.9848 - auc: 0.8177\b\b\b\b\b\b\b\b\b\b\b\b\b\b\b\b\b\b\b\b\b\b\b\b\b\b\b\b\b\b\b\b\b\b\b\b\b\b\b\b\b\b\b\b\b\b\b\b\b\b\b\b\b\b\b\b\b\b\b\b\b\b\b\b\b\b\b\b\b\b\b\b\b\b\b\b\b\b\b\b\b\b\b\b\b\b\b\b\b\b\b\b\b\b\b\b\b\b\b\b\b\b\b\b\b\b\b\b\b\b\b\b\b\b\b\b\b\b\b\b\b\b\b\b\b\b\b\b\b\b\b\b\b\b\b\b\b\b\b\b\b\b\b\b\b\b\b\b\b\b\n",
      "Epoch 20/20\n",
      "39/39 [==============================] - 0s 1ms/step - loss: 0.9863 - auc: 0.8376\b\b\b\b\b\b\b\b\b\b\b\b\b\b\b\b\b\b\b\b\b\b\b\b\b\b\b\b\b\b\b\b\b\b\b\b\b\b\b\b\b\b\b\b\b\b\b\b\b\b\b\b\b\b\b\b\b\b\b\b\b\b\b\b\b\b\b\b\b\b\b\b\b\b\b\b\b\b\b\b\b\b\b\b\b\b\b\b\b\b\b\b\b\b\b\b\b\b\b\b\b\b\b\b\b\b\b\b\b\b\b\b\b\b\b\b\b\b\b\b\b\b\b\b\b\b\b\b\b\b\b\b\b\b\b\b\b\b\b\b\b\b\b\b\b\b\b\b\b\b\n"
     ]
    },
    {
     "data": {
      "text/plain": "<keras.callbacks.History at 0x21b5d0509a0>"
     },
     "execution_count": 17,
     "metadata": {},
     "output_type": "execute_result"
    }
   ],
   "source": [
    "from numpy.random import seed\n",
    "seed(2)\n",
    "tf.random.set_seed(7)\n",
    "\n",
    "#X_train, X_test, y_train, y_test = train_test_split(X,y,test_size=0.2, random_state=12,stratify=y)\n",
    "\n",
    "#network size\n",
    "model = Sequential()\n",
    "model.add(Dense(128,input_dim=9,use_bias=False,activation='relu'))\n",
    "model.add(Dense(2,activation='softmax', use_bias=False, name='Dense_1'))\n",
    "model.add(Dense(2,activation='softmax', use_bias=False, name='Dense_2'))\n",
    "\n",
    "# loss is cross entropy\n",
    "model.compile(loss='binary_crossentropy', optimizer='adam', metrics=['AUC'])\n",
    "\n",
    "\n",
    "### 切分测试集与验证集\n",
    "X_train, X_test, y_train, y_test = train_test_split(X, y_total, test_size=0.25, random_state=0, stratify=y_total)\n",
    "model.fit(X_train, y_train, epochs=20, batch_size=32,class_weight={0:1,1:5})"
   ]
  },
  {
   "cell_type": "code",
   "execution_count": null,
   "metadata": {},
   "outputs": [],
   "source": []
  },
  {
   "cell_type": "code",
   "execution_count": 13,
   "metadata": {},
   "outputs": [
    {
     "name": "stdout",
     "output_type": "stream",
     "text": [
      "Epoch 1/25\n",
      "34/34 [==============================] - 1s 12ms/step - loss: 1.1572 - auc: 0.1641 - val_loss: 0.7269 - val_auc: 0.2174\n",
      "Epoch 2/25\n",
      "34/34 [==============================] - 0s 2ms/step - loss: 1.1527 - auc: 0.2294 - val_loss: 0.7229 - val_auc: 0.2438\n",
      "Epoch 3/25\n",
      "34/34 [==============================] - 0s 2ms/step - loss: 1.1489 - auc: 0.2419 - val_loss: 0.7171 - val_auc: 0.2513\n",
      "Epoch 4/25\n",
      "34/34 [==============================] - 0s 2ms/step - loss: 1.1422 - auc: 0.2992 - val_loss: 0.7090 - val_auc: 0.4518\n",
      "Epoch 5/25\n",
      "34/34 [==============================] - 0s 2ms/step - loss: 1.1332 - auc: 0.4569 - val_loss: 0.6966 - val_auc: 0.6594\n",
      "Epoch 6/25\n",
      "34/34 [==============================] - 0s 2ms/step - loss: 1.1229 - auc: 0.5936 - val_loss: 0.7038 - val_auc: 0.4991\n",
      "Epoch 7/25\n",
      "34/34 [==============================] - 0s 2ms/step - loss: 1.1133 - auc: 0.6383 - val_loss: 0.6932 - val_auc: 0.5913\n",
      "Epoch 8/25\n",
      "34/34 [==============================] - 0s 2ms/step - loss: 1.1019 - auc: 0.6103 - val_loss: 0.6643 - val_auc: 0.7916\n",
      "Epoch 9/25\n",
      "34/34 [==============================] - 0s 2ms/step - loss: 1.0913 - auc: 0.7211 - val_loss: 0.6748 - val_auc: 0.6788\n",
      "Epoch 10/25\n",
      "34/34 [==============================] - 0s 2ms/step - loss: 1.0805 - auc: 0.7168 - val_loss: 0.6528 - val_auc: 0.7830\n",
      "Epoch 11/25\n",
      "34/34 [==============================] - 0s 2ms/step - loss: 1.0723 - auc: 0.7529 - val_loss: 0.6574 - val_auc: 0.7555\n",
      "Epoch 12/25\n",
      "34/34 [==============================] - 0s 2ms/step - loss: 1.0636 - auc: 0.7228 - val_loss: 0.6510 - val_auc: 0.7651\n",
      "Epoch 13/25\n",
      "34/34 [==============================] - 0s 2ms/step - loss: 1.0574 - auc: 0.7161 - val_loss: 0.6321 - val_auc: 0.8321\n",
      "Epoch 14/25\n",
      "34/34 [==============================] - 0s 2ms/step - loss: 1.0478 - auc: 0.8214 - val_loss: 0.6476 - val_auc: 0.7667\n",
      "Epoch 15/25\n",
      "34/34 [==============================] - 0s 2ms/step - loss: 1.0384 - auc: 0.7775 - val_loss: 0.6279 - val_auc: 0.8265\n",
      "Epoch 16/25\n",
      "34/34 [==============================] - 0s 2ms/step - loss: 1.0337 - auc: 0.8044 - val_loss: 0.6203 - val_auc: 0.8424\n",
      "Epoch 17/25\n",
      "34/34 [==============================] - 0s 2ms/step - loss: 1.0234 - auc: 0.8283 - val_loss: 0.6366 - val_auc: 0.7881\n",
      "Epoch 18/25\n",
      "34/34 [==============================] - 0s 2ms/step - loss: 1.0165 - auc: 0.8175 - val_loss: 0.6148 - val_auc: 0.8309\n",
      "Epoch 19/25\n",
      "34/34 [==============================] - 0s 2ms/step - loss: 1.0086 - auc: 0.8134 - val_loss: 0.6085 - val_auc: 0.8405\n",
      "Epoch 20/25\n",
      "34/34 [==============================] - 0s 2ms/step - loss: 1.0045 - auc: 0.8389 - val_loss: 0.6136 - val_auc: 0.8195\n",
      "Epoch 21/25\n",
      "34/34 [==============================] - 0s 2ms/step - loss: 1.0001 - auc: 0.8167 - val_loss: 0.6027 - val_auc: 0.8385\n",
      "Epoch 22/25\n",
      "34/34 [==============================] - 0s 2ms/step - loss: 0.9918 - auc: 0.8261 - val_loss: 0.6060 - val_auc: 0.8218\n",
      "Epoch 23/25\n",
      "34/34 [==============================] - 0s 2ms/step - loss: 0.9844 - auc: 0.8410 - val_loss: 0.6016 - val_auc: 0.8278\n",
      "Epoch 24/25\n",
      "34/34 [==============================] - 0s 2ms/step - loss: 0.9816 - auc: 0.8159 - val_loss: 0.5863 - val_auc: 0.8483\n",
      "Epoch 25/25\n",
      "34/34 [==============================] - 0s 2ms/step - loss: 0.9809 - auc: 0.8374 - val_loss: 0.6071 - val_auc: 0.8092\n"
     ]
    },
    {
     "data": {
      "text/plain": [
       "<keras.callbacks.History at 0x216f58c0d08>"
      ]
     },
     "execution_count": 13,
     "metadata": {},
     "output_type": "execute_result"
    }
   ],
   "source": [
    "from numpy.random import seed\n",
    "seed(2)\n",
    "tf.random.set_seed(7)\n",
    "\n",
    "#X_train, X_test, y_train, y_test = train_test_split(X,y,test_size=0.2, random_state=12,stratify=y)\n",
    "\n",
    "#network size\n",
    "model = Sequential()\n",
    "model.add(Dense(128,input_dim=9,use_bias=False,activation='relu'))\n",
    "model.add(Dense(2,activation='softmax', use_bias=False, name='Dense_1'))\n",
    "model.add(Dense(2,activation='softmax', use_bias=False, name='Dense_2'))\n",
    "\n",
    "# loss is cross entropy\n",
    "model.compile(loss='binary_crossentropy', optimizer='adam', metrics=['AUC'])\n",
    "\n",
    "\n",
    "### 切分测试集与验证集\n",
    "X_train, X_test, y_train, y_test = train_test_split(X, y_total, test_size=0.2, random_state=0, stratify=y_total)\n",
    "\n",
    "model.fit(X_train, y_train, epochs=25, batch_size=32,class_weight={0:1,1:5}, validation_split=0.2)"
   ]
  },
  {
   "cell_type": "code",
   "execution_count": 14,
   "metadata": {},
   "outputs": [
    {
     "name": "stdout",
     "output_type": "stream",
     "text": [
      "              precision    recall  f1-score   support\n",
      "\n",
      "           0       0.94      0.73      0.82       277\n",
      "           1       0.36      0.75      0.49        56\n",
      "\n",
      "   micro avg       0.74      0.74      0.74       333\n",
      "   macro avg       0.65      0.74      0.66       333\n",
      "weighted avg       0.84      0.74      0.77       333\n",
      " samples avg       0.74      0.74      0.74       333\n",
      "\n"
     ]
    }
   ],
   "source": [
    "prediction = model.predict(X_test)\n",
    "prediction1 = (prediction > 0.5).astype(\"int32\")\n",
    "from sklearn.metrics import classification_report\n",
    "print(classification_report(y_test, prediction1))"
   ]
  },
  {
   "cell_type": "code",
   "execution_count": 15,
   "metadata": {},
   "outputs": [
    {
     "name": "stderr",
     "output_type": "stream",
     "text": [
      "C:\\Users\\bowei\\Miniconda3\\envs\\tensorflow\\lib\\site-packages\\ipykernel_launcher.py:29: DeprecationWarning: scipy.interp is deprecated and will be removed in SciPy 2.0.0, use numpy.interp instead\n"
     ]
    },
    {
     "data": {
      "image/png": "[encoded data removed]",
      "text/plain": [
       "<Figure size 432x288 with 1 Axes>"
      ]
     },
     "metadata": {
      "needs_background": "light"
     },
     "output_type": "display_data"
    }
   ],
   "source": [
    "import numpy as np\n",
    "import matplotlib.pyplot as plt\n",
    "from itertools import cycle\n",
    "from sklearn.metrics import roc_curve, auc\n",
    "from scipy import interp\n",
    "\n",
    "y_label = np.array(y_test)\n",
    "y_score = np.array(prediction)\n",
    "n_classes = 2\n",
    " \n",
    "# 计算每一类的ROC\n",
    "fpr = dict()\n",
    "tpr = dict()\n",
    "roc_auc = dict()\n",
    "for i in range(n_classes):\n",
    "    fpr[i], tpr[i], _ = roc_curve(y_label[:, i], y_score[:, i])\n",
    "    roc_auc[i] = auc(fpr[i], tpr[i])\n",
    " \n",
    "# micro（方法二）\n",
    "fpr[\"micro\"], tpr[\"micro\"], _ = roc_curve(y_label.ravel(), y_score.ravel())\n",
    "roc_auc[\"micro\"] = auc(fpr[\"micro\"], tpr[\"micro\"])\n",
    " \n",
    "# macro（方法一）\n",
    "# First aggregate all false positive rates\n",
    "all_fpr = np.unique(np.concatenate([fpr[i] for i in range(n_classes)]))\n",
    "# Then interpolate all ROC curves at this points\n",
    "mean_tpr = np.zeros_like(all_fpr)\n",
    "for i in range(n_classes):\n",
    "    mean_tpr += interp(all_fpr, fpr[i], tpr[i])\n",
    "# Finally average it and compute AUC\n",
    "mean_tpr /= n_classes\n",
    "fpr[\"macro\"] = all_fpr\n",
    "tpr[\"macro\"] = mean_tpr\n",
    "roc_auc[\"macro\"] = auc(fpr[\"macro\"], tpr[\"macro\"])\n",
    " \n",
    "# Plot all ROC curves\n",
    "lw=2\n",
    "plt.figure()\n",
    "plt.plot(fpr[\"micro\"], tpr[\"micro\"],\n",
    "         label='micro-average ROC curve (area = {0:0.2f})'\n",
    "               ''.format(roc_auc[\"micro\"]),\n",
    "         color='deeppink', linestyle=':', linewidth=4)\n",
    " \n",
    "plt.plot(fpr[\"macro\"], tpr[\"macro\"],\n",
    "         label='macro-average ROC curve (area = {0:0.2f})'\n",
    "               ''.format(roc_auc[\"macro\"]),\n",
    "         color='navy', linestyle=':', linewidth=4)\n",
    " \n",
    "colors = cycle(['aqua', 'darkorange', 'cornflowerblue'])\n",
    "for i, color in zip(range(n_classes), colors):\n",
    "    plt.plot(fpr[i], tpr[i], color=color, lw=lw,\n",
    "             label='ROC curve of class {0} (area = {1:0.2f})'\n",
    "             ''.format(i, roc_auc[i]))\n",
    " \n",
    "plt.plot([0, 1], [0, 1], 'k--', lw=lw)\n",
    "plt.xlim([0.0, 1.0])\n",
    "plt.ylim([0.0, 1.05])\n",
    "plt.xlabel('False Positive Rate')\n",
    "plt.ylabel('True Positive Rate')\n",
    "plt.title('multi-calss ROC')\n",
    "plt.legend(loc=\"lower right\")\n",
    "plt.show()"
   ]
  },
  {
   "cell_type": "code",
   "execution_count": 16,
   "metadata": {},
   "outputs": [
    {
     "name": "stdout",
     "output_type": "stream",
     "text": [
      "[[203  74]\n",
      " [ 14  42]]\n"
     ]
    }
   ],
   "source": [
    "from sklearn.metrics import confusion_matrix\n",
    "print(confusion_matrix(y_test[:,1], prediction1[:,1]))\n",
    "\n",
    "#TN|FP\n",
    "#FN|TP"
   ]
  },
  {
   "cell_type": "code",
   "execution_count": null,
   "metadata": {},
   "outputs": [],
   "source": []
  },
  {
   "cell_type": "code",
   "execution_count": null,
   "metadata": {},
   "outputs": [],
   "source": []
  },
  {
   "cell_type": "code",
   "execution_count": 35,
   "metadata": {},
   "outputs": [],
   "source": [
    "df.to_csv(r'C:\\Users\\bowei\\projectes\\clockdrawing\\csv\\all.csv',index=False,header=True)"
   ]
  },
  {
   "cell_type": "code",
   "execution_count": null,
   "metadata": {},
   "outputs": [],
   "source": []
  },
  {
   "cell_type": "code",
   "execution_count": null,
   "metadata": {},
   "outputs": [],
   "source": []
  },
  {
   "cell_type": "markdown",
   "metadata": {},
   "source": [
    "### Logistic Regeression Binary Classification "
   ]
  },
  {
   "cell_type": "code",
   "execution_count": 36,
   "metadata": {},
   "outputs": [],
   "source": [
    "from sklearn.linear_model import LogisticRegression\n",
    "from sklearn.model_selection import train_test_split\n",
    "from sklearn.preprocessing import StandardScaler\n",
    "from sklearn.metrics import classification_report"
   ]
  },
  {
   "cell_type": "code",
   "execution_count": 37,
   "metadata": {},
   "outputs": [
    {
     "data": {
      "text/plain": [
       "LogisticRegression()"
      ]
     },
     "execution_count": 37,
     "metadata": {},
     "output_type": "execute_result"
    }
   ],
   "source": [
    "estimator = LogisticRegression(C=1.0)\n",
    "selector = RFE(estimator=estimator, n_features_to_select=4,step=1)\n",
    "X_t = selector.fit_transform(X, y)\n",
    "\n",
    "X_train, X_test, y_train, y_test = train_test_split(X, y, test_size=0.2, random_state=0, stratify=y)\n",
    "X_train_t, X_test_t, y_train_t, y_test_t = train_test_split(X_t, y,test_size=0.2, random_state=0,stratify=y)\n",
    "\n",
    "ori = LogisticRegression(C=1.0)\n",
    "ori_rfe = LogisticRegression(C=1.0)\n",
    "ori.fit(X_train, y_train)\n",
    "ori_rfe.fit(X_train_t, y_train_t)"
   ]
  },
  {
   "cell_type": "code",
   "execution_count": 38,
   "metadata": {},
   "outputs": [
    {
     "name": "stdout",
     "output_type": "stream",
     "text": [
      "Original DataSet: test score=0.8468468468468469\n",
      "Selected DataSet: test score=0.8408408408408409\n"
     ]
    }
   ],
   "source": [
    "print(\"Original DataSet: test score=%s\" % (ori.score(X_test, y_test)))\n",
    "print(\"Selected DataSet: test score=%s\" % (ori_rfe.score(X_test_t, y_test_t)))"
   ]
  },
  {
   "cell_type": "code",
   "execution_count": 40,
   "metadata": {},
   "outputs": [
    {
     "name": "stdout",
     "output_type": "stream",
     "text": [
      "              precision    recall  f1-score   support\n",
      "\n",
      "           0       0.86      0.97      0.91       278\n",
      "           1       0.59      0.24      0.34        55\n",
      "\n",
      "    accuracy                           0.85       333\n",
      "   macro avg       0.73      0.60      0.63       333\n",
      "weighted avg       0.82      0.85      0.82       333\n",
      "\n"
     ]
    }
   ],
   "source": [
    "y_predict = ori.predict(X_test)\n",
    "print(classification_report(y_test, y_predict))"
   ]
  },
  {
   "cell_type": "code",
   "execution_count": 42,
   "metadata": {},
   "outputs": [
    {
     "name": "stdout",
     "output_type": "stream",
     "text": [
      "              precision    recall  f1-score   support\n",
      "\n",
      "           0       0.84      1.00      0.91       278\n",
      "           1       0.75      0.05      0.10        55\n",
      "\n",
      "    accuracy                           0.84       333\n",
      "   macro avg       0.80      0.53      0.51       333\n",
      "weighted avg       0.83      0.84      0.78       333\n",
      "\n"
     ]
    }
   ],
   "source": [
    "y_predict1 = ori_rfe.predict(X_test_t)\n",
    "print(classification_report(y_test_t, y_predict1))"
   ]
  },
  {
   "cell_type": "code",
   "execution_count": 45,
   "metadata": {},
   "outputs": [
    {
     "name": "stdout",
     "output_type": "stream",
     "text": [
      "[[269   9]\n",
      " [ 42  13]]\n"
     ]
    }
   ],
   "source": [
    "from sklearn.metrics import confusion_matrix\n",
    "print(confusion_matrix(y_test, y_predict))\n",
    "\n",
    "#TN|FP\n",
    "#FN|TP"
   ]
  },
  {
   "cell_type": "code",
   "execution_count": 46,
   "metadata": {},
   "outputs": [
    {
     "name": "stdout",
     "output_type": "stream",
     "text": [
      "[[277   1]\n",
      " [ 52   3]]\n"
     ]
    }
   ],
   "source": [
    "print(confusion_matrix(y_test_t, y_predict1))"
   ]
  },
  {
   "cell_type": "code",
   "execution_count": null,
   "metadata": {},
   "outputs": [],
   "source": []
  },
  {
   "cell_type": "code",
   "execution_count": 72,
   "metadata": {},
   "outputs": [
    {
     "name": "stdout",
     "output_type": "stream",
     "text": [
      "Selected DataSet: test score=0.8498498498498499\n"
     ]
    }
   ],
   "source": [
    "estimator = LogisticRegression(C=1.0)\n",
    "selector = RFE(estimator=estimator, n_features_to_select=7)\n",
    "X_t = selector.fit_transform(X, y)\n",
    "\n",
    "#X_train, X_test, y_train, y_test = train_test_split(X, y, test_size=0.2, random_state=0, stratify=y)\n",
    "X_train_t, X_test_t, y_train_t, y_test_t = train_test_split(X_t, y,test_size=0.2, random_state=0,stratify=y)\n",
    "\n",
    "#ori = LogisticRegression(C=1.0)\n",
    "ori_rfe = LogisticRegression(C=1.0)\n",
    "#ori.fit(X_train, y_train)\n",
    "ori_rfe.fit(X_train_t, y_train_t)\n",
    "\n",
    "print(\"Selected DataSet: test score=%s\" % (ori_rfe.score(X_test_t, y_test_t)))"
   ]
  },
  {
   "cell_type": "code",
   "execution_count": 73,
   "metadata": {},
   "outputs": [
    {
     "name": "stdout",
     "output_type": "stream",
     "text": [
      "              precision    recall  f1-score   support\n",
      "\n",
      "           0       0.87      0.97      0.91       278\n",
      "           1       0.61      0.25      0.36        55\n",
      "\n",
      "    accuracy                           0.85       333\n",
      "   macro avg       0.74      0.61      0.64       333\n",
      "weighted avg       0.82      0.85      0.82       333\n",
      "\n"
     ]
    }
   ],
   "source": [
    "y_predict1 = ori_rfe.predict(X_test_t)\n",
    "print(classification_report(y_test_t, y_predict1))"
   ]
  },
  {
   "cell_type": "code",
   "execution_count": 74,
   "metadata": {},
   "outputs": [
    {
     "name": "stdout",
     "output_type": "stream",
     "text": [
      "[[269   9]\n",
      " [ 41  14]]\n"
     ]
    }
   ],
   "source": [
    "print(confusion_matrix(y_test_t, y_predict1))"
   ]
  },
  {
   "cell_type": "code",
   "execution_count": 75,
   "metadata": {},
   "outputs": [
    {
     "name": "stdout",
     "output_type": "stream",
     "text": [
      "N_features 7\n",
      "Support is [False False  True  True  True  True  True  True  True]\n",
      "Ranking [3 2 1 1 1 1 1 1 1]\n"
     ]
    }
   ],
   "source": [
    "print(\"N_features %s\" % selector.n_features_) # 保留的特征数\n",
    "print(\"Support is %s\" % selector.support_) # 是否保留\n",
    "print(\"Ranking %s\" % selector.ranking_) # 重要程度排名"
   ]
  },
  {
   "cell_type": "code",
   "execution_count": 76,
   "metadata": {},
   "outputs": [
    {
     "data": {
      "text/html": [
       "<div>\n",
       "<style scoped>\n",
       "    .dataframe tbody tr th:only-of-type {\n",
       "        vertical-align: middle;\n",
       "    }\n",
       "\n",
       "    .dataframe tbody tr th {\n",
       "        vertical-align: top;\n",
       "    }\n",
       "\n",
       "    .dataframe thead th {\n",
       "        text-align: right;\n",
       "    }\n",
       "</style>\n",
       "<table border=\"1\" class=\"dataframe\">\n",
       "  <thead>\n",
       "    <tr style=\"text-align: right;\">\n",
       "      <th></th>\n",
       "      <th>gender</th>\n",
       "      <th>race</th>\n",
       "      <th>intvrage</th>\n",
       "      <th>wrdimmrc</th>\n",
       "      <th>wrddlyrc</th>\n",
       "      <th>clkdraw</th>\n",
       "      <th>clkimgcl</th>\n",
       "      <th>weight_nor</th>\n",
       "      <th>height_nor</th>\n",
       "    </tr>\n",
       "  </thead>\n",
       "  <tbody>\n",
       "    <tr>\n",
       "      <th>0</th>\n",
       "      <td>2</td>\n",
       "      <td>1</td>\n",
       "      <td>5</td>\n",
       "      <td>5</td>\n",
       "      <td>3</td>\n",
       "      <td>3</td>\n",
       "      <td>1</td>\n",
       "      <td>-0.051862</td>\n",
       "      <td>-0.172619</td>\n",
       "    </tr>\n",
       "    <tr>\n",
       "      <th>1</th>\n",
       "      <td>1</td>\n",
       "      <td>1</td>\n",
       "      <td>6</td>\n",
       "      <td>3</td>\n",
       "      <td>0</td>\n",
       "      <td>4</td>\n",
       "      <td>1</td>\n",
       "      <td>0.076554</td>\n",
       "      <td>-0.029762</td>\n",
       "    </tr>\n",
       "    <tr>\n",
       "      <th>2</th>\n",
       "      <td>2</td>\n",
       "      <td>3</td>\n",
       "      <td>5</td>\n",
       "      <td>4</td>\n",
       "      <td>1</td>\n",
       "      <td>1</td>\n",
       "      <td>1</td>\n",
       "      <td>-0.109239</td>\n",
       "      <td>-0.208333</td>\n",
       "    </tr>\n",
       "    <tr>\n",
       "      <th>3</th>\n",
       "      <td>2</td>\n",
       "      <td>2</td>\n",
       "      <td>6</td>\n",
       "      <td>5</td>\n",
       "      <td>1</td>\n",
       "      <td>3</td>\n",
       "      <td>3</td>\n",
       "      <td>0.032838</td>\n",
       "      <td>-0.101190</td>\n",
       "    </tr>\n",
       "    <tr>\n",
       "      <th>4</th>\n",
       "      <td>2</td>\n",
       "      <td>3</td>\n",
       "      <td>4</td>\n",
       "      <td>2</td>\n",
       "      <td>0</td>\n",
       "      <td>2</td>\n",
       "      <td>1</td>\n",
       "      <td>-0.076452</td>\n",
       "      <td>-0.065476</td>\n",
       "    </tr>\n",
       "  </tbody>\n",
       "</table>\n",
       "</div>"
      ],
      "text/plain": [
       "   gender  race  intvrage  wrdimmrc  wrddlyrc  clkdraw  clkimgcl  weight_nor  \\\n",
       "0       2     1         5         5         3        3         1   -0.051862   \n",
       "1       1     1         6         3         0        4         1    0.076554   \n",
       "2       2     3         5         4         1        1         1   -0.109239   \n",
       "3       2     2         6         5         1        3         3    0.032838   \n",
       "4       2     3         4         2         0        2         1   -0.076452   \n",
       "\n",
       "   height_nor  \n",
       "0   -0.172619  \n",
       "1   -0.029762  \n",
       "2   -0.208333  \n",
       "3   -0.101190  \n",
       "4   -0.065476  "
      ]
     },
     "execution_count": 76,
     "metadata": {},
     "output_type": "execute_result"
    }
   ],
   "source": [
    "X.head()"
   ]
  },
  {
   "cell_type": "code",
   "execution_count": null,
   "metadata": {},
   "outputs": [],
   "source": []
  },
  {
   "cell_type": "code",
   "execution_count": null,
   "metadata": {},
   "outputs": [],
   "source": []
  },
  {
   "cell_type": "code",
   "execution_count": null,
   "metadata": {},
   "outputs": [],
   "source": []
  },
  {
   "cell_type": "code",
   "execution_count": null,
   "metadata": {},
   "outputs": [],
   "source": []
  }
 ],
 "metadata": {
  "kernelspec": {
   "name": "python3",
   "language": "python",
   "display_name": "Python 3 (ipykernel)"
  },
  "language_info": {
   "codemirror_mode": {
    "name": "ipython",
    "version": 3
   },
   "file_extension": ".py",
   "mimetype": "text/x-python",
   "name": "python",
   "nbconvert_exporter": "python",
   "pygments_lexer": "ipython3",
   "version": "3.7.9"
  }
 },
 "nbformat": 4,
 "nbformat_minor": 4
}